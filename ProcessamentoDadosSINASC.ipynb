{
 "cells": [
  {
   "cell_type": "code",
   "execution_count": 5,
   "metadata": {},
   "outputs": [
    {
     "name": "stdout",
     "output_type": "stream",
     "text": [
      "DataFrame is written to CSV File successfully.\n",
      "DataFrame is written to CSV File successfully.\n",
      "DataFrame is written to CSV File successfully.\n"
     ]
    },
    {
     "ename": "KeyboardInterrupt",
     "evalue": "",
     "output_type": "error",
     "traceback": [
      "\u001b[1;31m---------------------------------------------------------------------------\u001b[0m",
      "\u001b[1;31mKeyboardInterrupt\u001b[0m                         Traceback (most recent call last)",
      "Cell \u001b[1;32mIn [5], line 62\u001b[0m\n\u001b[0;32m     60\u001b[0m \u001b[39mif\u001b[39;00m file_name\u001b[39m.\u001b[39mendswith(\u001b[39m'\u001b[39m\u001b[39m.csv\u001b[39m\u001b[39m'\u001b[39m):\n\u001b[0;32m     61\u001b[0m     file_path \u001b[39m=\u001b[39m os\u001b[39m.\u001b[39mpath\u001b[39m.\u001b[39mjoin(csv_dir, file_name)\n\u001b[1;32m---> 62\u001b[0m     process_csv_file(file_path)\n",
      "Cell \u001b[1;32mIn [5], line 10\u001b[0m, in \u001b[0;36mprocess_csv_file\u001b[1;34m(file_path)\u001b[0m\n\u001b[0;32m      8\u001b[0m \u001b[39mdef\u001b[39;00m \u001b[39mprocess_csv_file\u001b[39m(file_path):\n\u001b[0;32m      9\u001b[0m     \u001b[39m#Função para o processamento de arquivos CSV\u001b[39;00m\n\u001b[1;32m---> 10\u001b[0m     df \u001b[39m=\u001b[39m pd\u001b[39m.\u001b[39;49mread_csv(file_path, sep\u001b[39m=\u001b[39;49m\u001b[39m'\u001b[39;49m\u001b[39m;\u001b[39;49m\u001b[39m'\u001b[39;49m, encoding\u001b[39m=\u001b[39;49m\u001b[39m'\u001b[39;49m\u001b[39mlatin-1\u001b[39;49m\u001b[39m'\u001b[39;49m, engine\u001b[39m=\u001b[39;49m\u001b[39m'\u001b[39;49m\u001b[39mpython\u001b[39;49m\u001b[39m'\u001b[39;49m, on_bad_lines\u001b[39m=\u001b[39;49m\u001b[39m'\u001b[39;49m\u001b[39mskip\u001b[39;49m\u001b[39m'\u001b[39;49m)\n\u001b[0;32m     11\u001b[0m     df \u001b[39m=\u001b[39m df[[\u001b[39m'\u001b[39m\u001b[39mCODMUNNASC\u001b[39m\u001b[39m'\u001b[39m, \u001b[39m'\u001b[39m\u001b[39mIDADEMAE\u001b[39m\u001b[39m'\u001b[39m,\u001b[39m'\u001b[39m\u001b[39mPARTO\u001b[39m\u001b[39m'\u001b[39m,\u001b[39m'\u001b[39m\u001b[39mPESO\u001b[39m\u001b[39m'\u001b[39m,\u001b[39m'\u001b[39m\u001b[39mGESTACAO\u001b[39m\u001b[39m'\u001b[39m, \u001b[39m'\u001b[39m\u001b[39mDTNASC\u001b[39m\u001b[39m'\u001b[39m]]\n\u001b[0;32m     13\u001b[0m     df \u001b[39m=\u001b[39m df[df[\u001b[39m'\u001b[39m\u001b[39mDTNASC\u001b[39m\u001b[39m'\u001b[39m]\u001b[39m.\u001b[39mnotna()]\n",
      "File \u001b[1;32md:\\UFMG - DOUTORADO\\Dados SIM - Natalidade\\venvsim39\\lib\\site-packages\\pandas\\util\\_decorators.py:211\u001b[0m, in \u001b[0;36mdeprecate_kwarg.<locals>._deprecate_kwarg.<locals>.wrapper\u001b[1;34m(*args, **kwargs)\u001b[0m\n\u001b[0;32m    209\u001b[0m     \u001b[39melse\u001b[39;00m:\n\u001b[0;32m    210\u001b[0m         kwargs[new_arg_name] \u001b[39m=\u001b[39m new_arg_value\n\u001b[1;32m--> 211\u001b[0m \u001b[39mreturn\u001b[39;00m func(\u001b[39m*\u001b[39margs, \u001b[39m*\u001b[39m\u001b[39m*\u001b[39mkwargs)\n",
      "File \u001b[1;32md:\\UFMG - DOUTORADO\\Dados SIM - Natalidade\\venvsim39\\lib\\site-packages\\pandas\\util\\_decorators.py:331\u001b[0m, in \u001b[0;36mdeprecate_nonkeyword_arguments.<locals>.decorate.<locals>.wrapper\u001b[1;34m(*args, **kwargs)\u001b[0m\n\u001b[0;32m    325\u001b[0m \u001b[39mif\u001b[39;00m \u001b[39mlen\u001b[39m(args) \u001b[39m>\u001b[39m num_allow_args:\n\u001b[0;32m    326\u001b[0m     warnings\u001b[39m.\u001b[39mwarn(\n\u001b[0;32m    327\u001b[0m         msg\u001b[39m.\u001b[39mformat(arguments\u001b[39m=\u001b[39m_format_argument_list(allow_args)),\n\u001b[0;32m    328\u001b[0m         \u001b[39mFutureWarning\u001b[39;00m,\n\u001b[0;32m    329\u001b[0m         stacklevel\u001b[39m=\u001b[39mfind_stack_level(),\n\u001b[0;32m    330\u001b[0m     )\n\u001b[1;32m--> 331\u001b[0m \u001b[39mreturn\u001b[39;00m func(\u001b[39m*\u001b[39margs, \u001b[39m*\u001b[39m\u001b[39m*\u001b[39mkwargs)\n",
      "File \u001b[1;32md:\\UFMG - DOUTORADO\\Dados SIM - Natalidade\\venvsim39\\lib\\site-packages\\pandas\\io\\parsers\\readers.py:950\u001b[0m, in \u001b[0;36mread_csv\u001b[1;34m(filepath_or_buffer, sep, delimiter, header, names, index_col, usecols, squeeze, prefix, mangle_dupe_cols, dtype, engine, converters, true_values, false_values, skipinitialspace, skiprows, skipfooter, nrows, na_values, keep_default_na, na_filter, verbose, skip_blank_lines, parse_dates, infer_datetime_format, keep_date_col, date_parser, dayfirst, cache_dates, iterator, chunksize, compression, thousands, decimal, lineterminator, quotechar, quoting, doublequote, escapechar, comment, encoding, encoding_errors, dialect, error_bad_lines, warn_bad_lines, on_bad_lines, delim_whitespace, low_memory, memory_map, float_precision, storage_options)\u001b[0m\n\u001b[0;32m    935\u001b[0m kwds_defaults \u001b[39m=\u001b[39m _refine_defaults_read(\n\u001b[0;32m    936\u001b[0m     dialect,\n\u001b[0;32m    937\u001b[0m     delimiter,\n\u001b[1;32m   (...)\u001b[0m\n\u001b[0;32m    946\u001b[0m     defaults\u001b[39m=\u001b[39m{\u001b[39m\"\u001b[39m\u001b[39mdelimiter\u001b[39m\u001b[39m\"\u001b[39m: \u001b[39m\"\u001b[39m\u001b[39m,\u001b[39m\u001b[39m\"\u001b[39m},\n\u001b[0;32m    947\u001b[0m )\n\u001b[0;32m    948\u001b[0m kwds\u001b[39m.\u001b[39mupdate(kwds_defaults)\n\u001b[1;32m--> 950\u001b[0m \u001b[39mreturn\u001b[39;00m _read(filepath_or_buffer, kwds)\n",
      "File \u001b[1;32md:\\UFMG - DOUTORADO\\Dados SIM - Natalidade\\venvsim39\\lib\\site-packages\\pandas\\io\\parsers\\readers.py:611\u001b[0m, in \u001b[0;36m_read\u001b[1;34m(filepath_or_buffer, kwds)\u001b[0m\n\u001b[0;32m    608\u001b[0m     \u001b[39mreturn\u001b[39;00m parser\n\u001b[0;32m    610\u001b[0m \u001b[39mwith\u001b[39;00m parser:\n\u001b[1;32m--> 611\u001b[0m     \u001b[39mreturn\u001b[39;00m parser\u001b[39m.\u001b[39;49mread(nrows)\n",
      "File \u001b[1;32md:\\UFMG - DOUTORADO\\Dados SIM - Natalidade\\venvsim39\\lib\\site-packages\\pandas\\io\\parsers\\readers.py:1778\u001b[0m, in \u001b[0;36mTextFileReader.read\u001b[1;34m(self, nrows)\u001b[0m\n\u001b[0;32m   1771\u001b[0m nrows \u001b[39m=\u001b[39m validate_integer(\u001b[39m\"\u001b[39m\u001b[39mnrows\u001b[39m\u001b[39m\"\u001b[39m, nrows)\n\u001b[0;32m   1772\u001b[0m \u001b[39mtry\u001b[39;00m:\n\u001b[0;32m   1773\u001b[0m     \u001b[39m# error: \"ParserBase\" has no attribute \"read\"\u001b[39;00m\n\u001b[0;32m   1774\u001b[0m     (\n\u001b[0;32m   1775\u001b[0m         index,\n\u001b[0;32m   1776\u001b[0m         columns,\n\u001b[0;32m   1777\u001b[0m         col_dict,\n\u001b[1;32m-> 1778\u001b[0m     ) \u001b[39m=\u001b[39m \u001b[39mself\u001b[39;49m\u001b[39m.\u001b[39;49m_engine\u001b[39m.\u001b[39;49mread(  \u001b[39m# type: ignore[attr-defined]\u001b[39;49;00m\n\u001b[0;32m   1779\u001b[0m         nrows\n\u001b[0;32m   1780\u001b[0m     )\n\u001b[0;32m   1781\u001b[0m \u001b[39mexcept\u001b[39;00m \u001b[39mException\u001b[39;00m:\n\u001b[0;32m   1782\u001b[0m     \u001b[39mself\u001b[39m\u001b[39m.\u001b[39mclose()\n",
      "File \u001b[1;32md:\\UFMG - DOUTORADO\\Dados SIM - Natalidade\\venvsim39\\lib\\site-packages\\pandas\\io\\parsers\\python_parser.py:250\u001b[0m, in \u001b[0;36mPythonParser.read\u001b[1;34m(self, rows)\u001b[0m\n\u001b[0;32m    244\u001b[0m \u001b[39mdef\u001b[39;00m \u001b[39mread\u001b[39m(\n\u001b[0;32m    245\u001b[0m     \u001b[39mself\u001b[39m, rows: \u001b[39mint\u001b[39m \u001b[39m|\u001b[39m \u001b[39mNone\u001b[39;00m \u001b[39m=\u001b[39m \u001b[39mNone\u001b[39;00m\n\u001b[0;32m    246\u001b[0m ) \u001b[39m-\u001b[39m\u001b[39m>\u001b[39m \u001b[39mtuple\u001b[39m[\n\u001b[0;32m    247\u001b[0m     Index \u001b[39m|\u001b[39m \u001b[39mNone\u001b[39;00m, Sequence[Hashable] \u001b[39m|\u001b[39m MultiIndex, Mapping[Hashable, ArrayLike]\n\u001b[0;32m    248\u001b[0m ]:\n\u001b[0;32m    249\u001b[0m     \u001b[39mtry\u001b[39;00m:\n\u001b[1;32m--> 250\u001b[0m         content \u001b[39m=\u001b[39m \u001b[39mself\u001b[39;49m\u001b[39m.\u001b[39;49m_get_lines(rows)\n\u001b[0;32m    251\u001b[0m     \u001b[39mexcept\u001b[39;00m \u001b[39mStopIteration\u001b[39;00m:\n\u001b[0;32m    252\u001b[0m         \u001b[39mif\u001b[39;00m \u001b[39mself\u001b[39m\u001b[39m.\u001b[39m_first_chunk:\n",
      "File \u001b[1;32md:\\UFMG - DOUTORADO\\Dados SIM - Natalidade\\venvsim39\\lib\\site-packages\\pandas\\io\\parsers\\python_parser.py:1123\u001b[0m, in \u001b[0;36mPythonParser._get_lines\u001b[1;34m(self, rows)\u001b[0m\n\u001b[0;32m   1120\u001b[0m rows \u001b[39m=\u001b[39m \u001b[39m0\u001b[39m\n\u001b[0;32m   1122\u001b[0m \u001b[39mwhile\u001b[39;00m \u001b[39mTrue\u001b[39;00m:\n\u001b[1;32m-> 1123\u001b[0m     new_row \u001b[39m=\u001b[39m \u001b[39mself\u001b[39;49m\u001b[39m.\u001b[39;49m_next_iter_line(row_num\u001b[39m=\u001b[39;49m\u001b[39mself\u001b[39;49m\u001b[39m.\u001b[39;49mpos \u001b[39m+\u001b[39;49m rows \u001b[39m+\u001b[39;49m \u001b[39m1\u001b[39;49m)\n\u001b[0;32m   1124\u001b[0m     rows \u001b[39m+\u001b[39m\u001b[39m=\u001b[39m \u001b[39m1\u001b[39m\n\u001b[0;32m   1126\u001b[0m     \u001b[39mif\u001b[39;00m new_row \u001b[39mis\u001b[39;00m \u001b[39mnot\u001b[39;00m \u001b[39mNone\u001b[39;00m:\n",
      "File \u001b[1;32md:\\UFMG - DOUTORADO\\Dados SIM - Natalidade\\venvsim39\\lib\\site-packages\\pandas\\io\\parsers\\python_parser.py:786\u001b[0m, in \u001b[0;36mPythonParser._next_iter_line\u001b[1;34m(self, row_num)\u001b[0m\n\u001b[0;32m    783\u001b[0m \u001b[39mtry\u001b[39;00m:\n\u001b[0;32m    784\u001b[0m     \u001b[39m# assert for mypy, data is Iterator[str] or None, would error in next\u001b[39;00m\n\u001b[0;32m    785\u001b[0m     \u001b[39massert\u001b[39;00m \u001b[39mself\u001b[39m\u001b[39m.\u001b[39mdata \u001b[39mis\u001b[39;00m \u001b[39mnot\u001b[39;00m \u001b[39mNone\u001b[39;00m\n\u001b[1;32m--> 786\u001b[0m     line \u001b[39m=\u001b[39m \u001b[39mnext\u001b[39;49m(\u001b[39mself\u001b[39;49m\u001b[39m.\u001b[39;49mdata)\n\u001b[0;32m    787\u001b[0m     \u001b[39m# for mypy\u001b[39;00m\n\u001b[0;32m    788\u001b[0m     \u001b[39massert\u001b[39;00m \u001b[39misinstance\u001b[39m(line, \u001b[39mlist\u001b[39m)\n",
      "File \u001b[1;32m~\\AppData\\Local\\Programs\\Python\\Python39\\lib\\encodings\\latin_1.py:25\u001b[0m, in \u001b[0;36mIncrementalDecoder.decode\u001b[1;34m(self, input, final)\u001b[0m\n\u001b[0;32m     24\u001b[0m \u001b[39mclass\u001b[39;00m \u001b[39mIncrementalDecoder\u001b[39;00m(codecs\u001b[39m.\u001b[39mIncrementalDecoder):\n\u001b[1;32m---> 25\u001b[0m     \u001b[39mdef\u001b[39;00m \u001b[39mdecode\u001b[39m(\u001b[39mself\u001b[39m, \u001b[39minput\u001b[39m, final\u001b[39m=\u001b[39m\u001b[39mFalse\u001b[39;00m):\n\u001b[0;32m     26\u001b[0m         \u001b[39mreturn\u001b[39;00m codecs\u001b[39m.\u001b[39mlatin_1_decode(\u001b[39minput\u001b[39m,\u001b[39mself\u001b[39m\u001b[39m.\u001b[39merrors)[\u001b[39m0\u001b[39m]\n",
      "\u001b[1;31mKeyboardInterrupt\u001b[0m: "
     ]
    }
   ],
   "source": [
    "import os\n",
    "#import csv\n",
    "import numpy as np\n",
    "#from datetime import datetime as dt\n",
    "import pandas as pd\n",
    "#from pandasql import sqldf\n",
    "\n",
    "def process_csv_file(file_path):\n",
    "    #Função para o processamento de arquivos CSV\n",
    "    df = pd.read_csv(file_path, sep=';', encoding='latin-1', engine='python', on_bad_lines='skip')\n",
    "    df = df[['CODMUNNASC', 'IDADEMAE','PARTO','PESO','GESTACAO', 'DTNASC']]\n",
    "\n",
    "    df = df[df['DTNASC'].notna()]\n",
    "    df = df[df['CODMUNNASC'].notna()]\n",
    "    #df['DTNASC'] = df['DTNASC'].astype(np.int64(np.flo))\n",
    "    df[['IDADEMAE', 'PARTO','PESO', 'GESTACAO']] = df[['IDADEMAE', 'PARTO','PESO', 'GESTACAO']]\n",
    "    df = df.sort_values(['CODMUNNASC'], ascending=[True]) #ordenando em ordem crescent os municipios\n",
    "    #print('Linhas nesse dataframe:', len(df.index))\n",
    "    #print(df[[\"IDADEMAE\"]].mean())\n",
    "    #print(df.describe())\n",
    "    df['CODMUNNASC'] = df['CODMUNNASC'].astype(str) #convertendo a coluna para string\n",
    "    df['CODMUNNASC']=np.where([i.startswith(\"11\") for i in df['CODMUNNASC']],'RO',df['CODMUNNASC']) #substituindo o municipio por regiao\n",
    "    df['CODMUNNASC']=np.where([i.startswith(\"12\") for i in df['CODMUNNASC']],'AC',df['CODMUNNASC'])\n",
    "    df['CODMUNNASC']=np.where([i.startswith(\"13\") for i in df['CODMUNNASC']],'AM',df['CODMUNNASC'])\n",
    "    df['CODMUNNASC']=np.where([i.startswith(\"14\") for i in df['CODMUNNASC']],'RR',df['CODMUNNASC'])\n",
    "    df['CODMUNNASC']=np.where([i.startswith(\"15\") for i in df['CODMUNNASC']],'PA',df['CODMUNNASC'])\n",
    "    df['CODMUNNASC']=np.where([i.startswith(\"16\") for i in df['CODMUNNASC']],'AP',df['CODMUNNASC'])\n",
    "    df['CODMUNNASC']=np.where([i.startswith(\"17\") for i in df['CODMUNNASC']],'TO',df['CODMUNNASC'])\n",
    "    df['CODMUNNASC']=np.where([i.startswith(\"21\") for i in df['CODMUNNASC']],'MA',df['CODMUNNASC'])\n",
    "    df['CODMUNNASC']=np.where([i.startswith(\"22\") for i in df['CODMUNNASC']],'PI',df['CODMUNNASC'])\n",
    "    df['CODMUNNASC']=np.where([i.startswith(\"23\") for i in df['CODMUNNASC']],'CE',df['CODMUNNASC'])\n",
    "    df['CODMUNNASC']=np.where([i.startswith(\"24\") for i in df['CODMUNNASC']],'RN',df['CODMUNNASC'])\n",
    "    df['CODMUNNASC']=np.where([i.startswith(\"25\") for i in df['CODMUNNASC']],'PB',df['CODMUNNASC']) \n",
    "    df['CODMUNNASC']=np.where([i.startswith(\"26\") for i in df['CODMUNNASC']],'PE',df['CODMUNNASC']) \n",
    "    df['CODMUNNASC']=np.where([i.startswith(\"27\") for i in df['CODMUNNASC']],'AL',df['CODMUNNASC']) \n",
    "    df['CODMUNNASC']=np.where([i.startswith(\"28\") for i in df['CODMUNNASC']],'SE',df['CODMUNNASC']) \n",
    "    df['CODMUNNASC']=np.where([i.startswith(\"29\") for i in df['CODMUNNASC']],'BA',df['CODMUNNASC'])\n",
    "    df['CODMUNNASC']=np.where([i.startswith(\"31\") for i in df['CODMUNNASC']],'MG',df['CODMUNNASC'])\n",
    "    df['CODMUNNASC']=np.where([i.startswith(\"32\") for i in df['CODMUNNASC']],'ES',df['CODMUNNASC'])\n",
    "    df['CODMUNNASC']=np.where([i.startswith(\"33\") for i in df['CODMUNNASC']],'RJ',df['CODMUNNASC'])\n",
    "    df['CODMUNNASC']=np.where([i.startswith(\"35\") for i in df['CODMUNNASC']],'SP',df['CODMUNNASC'])\n",
    "    df['CODMUNNASC']=np.where([i.startswith(\"41\") for i in df['CODMUNNASC']],'PR',df['CODMUNNASC'])\n",
    "    df['CODMUNNASC']=np.where([i.startswith(\"42\") for i in df['CODMUNNASC']],'SC',df['CODMUNNASC'])\n",
    "    df['CODMUNNASC']=np.where([i.startswith(\"43\") for i in df['CODMUNNASC']],'RS',df['CODMUNNASC'])\n",
    "    df['CODMUNNASC']=np.where([i.startswith(\"50\") for i in df['CODMUNNASC']],'MS',df['CODMUNNASC'])\n",
    "    df['CODMUNNASC']=np.where([i.startswith(\"51\") for i in df['CODMUNNASC']],'MT',df['CODMUNNASC'])\n",
    "    df['CODMUNNASC']=np.where([i.startswith(\"52\") for i in df['CODMUNNASC']],'GO',df['CODMUNNASC'])\n",
    "    df['CODMUNNASC']=np.where([i.startswith(\"53\") for i in df['CODMUNNASC']],'DF',df['CODMUNNASC'])\n",
    "    file_name = os.path.split(file_path)\n",
    "    # salvando o arquivo excel.\n",
    "    df.to_csv(file_name[1]+\".csv\")\n",
    "    print('DataFrame is written to CSV File successfully.')\n",
    "    df['CODMUNNASC'].value_counts().to_csv(\"obitos_x_estado\"+file_name[1]+\".csv\")\n",
    "\n",
    "# Diretório que contém os arquivos CSV\n",
    "csv_dir = 'D:/UFMG - DOUTORADO/Dados SIM - Natalidade/venvsim39/'\n",
    "\n",
    "# Loop para processar cada arquivo CSV no diretório\n",
    "for file_name in os.listdir(csv_dir):\n",
    "    if file_name.endswith('.csv'):\n",
    "        file_path = os.path.join(csv_dir, file_name)\n",
    "        process_csv_file(file_path)"
   ]
  }
 ],
 "metadata": {
  "kernelspec": {
   "display_name": "Python 3.9.0 ('venvsim39': venv)",
   "language": "python",
   "name": "python3"
  },
  "language_info": {
   "codemirror_mode": {
    "name": "ipython",
    "version": 3
   },
   "file_extension": ".py",
   "mimetype": "text/x-python",
   "name": "python",
   "nbconvert_exporter": "python",
   "pygments_lexer": "ipython3",
   "version": "3.9.0"
  },
  "orig_nbformat": 4,
  "vscode": {
   "interpreter": {
    "hash": "d66df1f5ba377e5b7cc706075f57baa4a19f5ea3b3af068d3b6a1f1315ee4199"
   }
  }
 },
 "nbformat": 4,
 "nbformat_minor": 2
}
