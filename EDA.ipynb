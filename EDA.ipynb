{
 "cells": [
  {
   "cell_type": "code",
   "execution_count": 1,
   "metadata": {},
   "outputs": [],
   "source": [
    "#Juntando todos os arquvivos de Mortalidade limpos.\n",
    "\n",
    "# importing the required modules\n",
    "import glob\n",
    "import pandas as pd\n",
    "\n",
    "# specifying the path to csv files\n",
    "path = \"D:/UFMG - DOUTORADO/Dados SIM - Natalidade/venvsim39/\"\n",
    "\n",
    "# csv files in the path\n",
    "file_list = glob.glob(path + \"/*.xlsx\")\n",
    "\n",
    "# list of excel files we want to merge.\n",
    "# pd.read_excel(file_path) reads the\n",
    "# excel data into pandas dataframe.\n",
    "excl_list = []\n",
    "\n",
    "for file in file_list:\n",
    "\texcl_list.append(pd.read_excel(file))\n",
    "\n",
    "# concatenate all DataFrames in the list\n",
    "# into a single DataFrame, returns new\n",
    "# DataFrame.\n",
    "excl_merged = pd.concat(excl_list, ignore_index=True)\n",
    "\n",
    "# exports the dataframe into excel file\n",
    "# with specified name.\n",
    "excl_merged.to_excel('Total_Mortalidade_Geral_Limpo2010-2020.xlsx', index=False)\n"
   ]
  },
  {
   "cell_type": "code",
   "execution_count": 32,
   "metadata": {},
   "outputs": [
    {
     "name": "stdout",
     "output_type": "stream",
     "text": [
      "266490\n"
     ]
    },
    {
     "data": {
      "text/html": [
       "<div>\n",
       "<style scoped>\n",
       "    .dataframe tbody tr th:only-of-type {\n",
       "        vertical-align: middle;\n",
       "    }\n",
       "\n",
       "    .dataframe tbody tr th {\n",
       "        vertical-align: top;\n",
       "    }\n",
       "\n",
       "    .dataframe thead th {\n",
       "        text-align: right;\n",
       "    }\n",
       "</style>\n",
       "<table border=\"1\" class=\"dataframe\">\n",
       "  <thead>\n",
       "    <tr style=\"text-align: right;\">\n",
       "      <th></th>\n",
       "      <th>Unnamed: 0</th>\n",
       "      <th>DTOBITO</th>\n",
       "      <th>DTNASC</th>\n",
       "      <th>IDADEMAE</th>\n",
       "      <th>PARTO</th>\n",
       "      <th>PESO</th>\n",
       "      <th>GESTACAO</th>\n",
       "      <th>ESCMAEAGR1</th>\n",
       "      <th>CODMUNOCOR</th>\n",
       "      <th>RACACOR</th>\n",
       "      <th>IDADE</th>\n",
       "    </tr>\n",
       "  </thead>\n",
       "  <tbody>\n",
       "    <tr>\n",
       "      <th>0</th>\n",
       "      <td>738054</td>\n",
       "      <td>2010-04-30</td>\n",
       "      <td>2010-04-30</td>\n",
       "      <td>NaN</td>\n",
       "      <td>NaN</td>\n",
       "      <td>NaN</td>\n",
       "      <td>NaN</td>\n",
       "      <td>NaN</td>\n",
       "      <td>RO</td>\n",
       "      <td>1.0</td>\n",
       "      <td>0</td>\n",
       "    </tr>\n",
       "    <tr>\n",
       "      <th>1</th>\n",
       "      <td>738024</td>\n",
       "      <td>2010-06-07</td>\n",
       "      <td>2010-06-07</td>\n",
       "      <td>20.0</td>\n",
       "      <td>2.0</td>\n",
       "      <td>1930.0</td>\n",
       "      <td>5.0</td>\n",
       "      <td>9.0</td>\n",
       "      <td>RO</td>\n",
       "      <td>1.0</td>\n",
       "      <td>0</td>\n",
       "    </tr>\n",
       "    <tr>\n",
       "      <th>2</th>\n",
       "      <td>738016</td>\n",
       "      <td>2010-01-07</td>\n",
       "      <td>2010-01-07</td>\n",
       "      <td>NaN</td>\n",
       "      <td>NaN</td>\n",
       "      <td>NaN</td>\n",
       "      <td>NaN</td>\n",
       "      <td>NaN</td>\n",
       "      <td>RO</td>\n",
       "      <td>1.0</td>\n",
       "      <td>0</td>\n",
       "    </tr>\n",
       "    <tr>\n",
       "      <th>3</th>\n",
       "      <td>738123</td>\n",
       "      <td>2010-06-22</td>\n",
       "      <td>2010-06-22</td>\n",
       "      <td>18.0</td>\n",
       "      <td>1.0</td>\n",
       "      <td>1450.0</td>\n",
       "      <td>4.0</td>\n",
       "      <td>5.0</td>\n",
       "      <td>RO</td>\n",
       "      <td>4.0</td>\n",
       "      <td>0</td>\n",
       "    </tr>\n",
       "    <tr>\n",
       "      <th>4</th>\n",
       "      <td>733317</td>\n",
       "      <td>2010-10-12</td>\n",
       "      <td>2010-10-12</td>\n",
       "      <td>30.0</td>\n",
       "      <td>1.0</td>\n",
       "      <td>3330.0</td>\n",
       "      <td>5.0</td>\n",
       "      <td>1.0</td>\n",
       "      <td>RO</td>\n",
       "      <td>1.0</td>\n",
       "      <td>0</td>\n",
       "    </tr>\n",
       "  </tbody>\n",
       "</table>\n",
       "</div>"
      ],
      "text/plain": [
       "   Unnamed: 0    DTOBITO     DTNASC  IDADEMAE  PARTO    PESO  GESTACAO  \\\n",
       "0      738054 2010-04-30 2010-04-30       NaN    NaN     NaN       NaN   \n",
       "1      738024 2010-06-07 2010-06-07      20.0    2.0  1930.0       5.0   \n",
       "2      738016 2010-01-07 2010-01-07       NaN    NaN     NaN       NaN   \n",
       "3      738123 2010-06-22 2010-06-22      18.0    1.0  1450.0       4.0   \n",
       "4      733317 2010-10-12 2010-10-12      30.0    1.0  3330.0       5.0   \n",
       "\n",
       "   ESCMAEAGR1 CODMUNOCOR  RACACOR  IDADE  \n",
       "0         NaN         RO      1.0      0  \n",
       "1         9.0         RO      1.0      0  \n",
       "2         NaN         RO      1.0      0  \n",
       "3         5.0         RO      4.0      0  \n",
       "4         1.0         RO      1.0      0  "
      ]
     },
     "execution_count": 32,
     "metadata": {},
     "output_type": "execute_result"
    }
   ],
   "source": [
    "#começar a usar o módulo de EDA\n",
    "\n",
    "import dtale\n",
    "import pandas as pd\n",
    "#df1 = pd.read_excel('D:/UFMG - DOUTORADO/Dados SIM - Natalidade/venvsim39/Total_Mortalidade_Geral_Limpo2010-2020.xlsx')\n",
    "print(len(df1.index))\n",
    "df1.head()"
   ]
  },
  {
   "cell_type": "code",
   "execution_count": 3,
   "metadata": {},
   "outputs": [
    {
     "data": {
      "text/html": [
       "<div>\n",
       "<style scoped>\n",
       "    .dataframe tbody tr th:only-of-type {\n",
       "        vertical-align: middle;\n",
       "    }\n",
       "\n",
       "    .dataframe tbody tr th {\n",
       "        vertical-align: top;\n",
       "    }\n",
       "\n",
       "    .dataframe thead th {\n",
       "        text-align: right;\n",
       "    }\n",
       "</style>\n",
       "<table border=\"1\" class=\"dataframe\">\n",
       "  <thead>\n",
       "    <tr style=\"text-align: right;\">\n",
       "      <th></th>\n",
       "      <th>IDADEMAE</th>\n",
       "      <th>PARTO</th>\n",
       "      <th>PESO</th>\n",
       "      <th>GESTACAO</th>\n",
       "      <th>ESCMAEAGR1</th>\n",
       "      <th>CODMUNOCOR</th>\n",
       "      <th>RACACOR</th>\n",
       "      <th>IDADE</th>\n",
       "    </tr>\n",
       "  </thead>\n",
       "  <tbody>\n",
       "    <tr>\n",
       "      <th>1</th>\n",
       "      <td>20</td>\n",
       "      <td>2</td>\n",
       "      <td>1930</td>\n",
       "      <td>5</td>\n",
       "      <td>9</td>\n",
       "      <td>RO</td>\n",
       "      <td>1</td>\n",
       "      <td>0</td>\n",
       "    </tr>\n",
       "    <tr>\n",
       "      <th>3</th>\n",
       "      <td>18</td>\n",
       "      <td>1</td>\n",
       "      <td>1450</td>\n",
       "      <td>4</td>\n",
       "      <td>5</td>\n",
       "      <td>RO</td>\n",
       "      <td>4</td>\n",
       "      <td>0</td>\n",
       "    </tr>\n",
       "    <tr>\n",
       "      <th>4</th>\n",
       "      <td>30</td>\n",
       "      <td>1</td>\n",
       "      <td>3330</td>\n",
       "      <td>5</td>\n",
       "      <td>1</td>\n",
       "      <td>RO</td>\n",
       "      <td>1</td>\n",
       "      <td>0</td>\n",
       "    </tr>\n",
       "    <tr>\n",
       "      <th>5</th>\n",
       "      <td>15</td>\n",
       "      <td>2</td>\n",
       "      <td>4000</td>\n",
       "      <td>5</td>\n",
       "      <td>3</td>\n",
       "      <td>RO</td>\n",
       "      <td>4</td>\n",
       "      <td>1</td>\n",
       "    </tr>\n",
       "    <tr>\n",
       "      <th>7</th>\n",
       "      <td>19</td>\n",
       "      <td>1</td>\n",
       "      <td>2650</td>\n",
       "      <td>5</td>\n",
       "      <td>4</td>\n",
       "      <td>RO</td>\n",
       "      <td>1</td>\n",
       "      <td>10</td>\n",
       "    </tr>\n",
       "  </tbody>\n",
       "</table>\n",
       "</div>"
      ],
      "text/plain": [
       "   IDADEMAE  PARTO  PESO  GESTACAO  ESCMAEAGR1 CODMUNOCOR  RACACOR  IDADE\n",
       "1        20      2  1930         5           9         RO        1      0\n",
       "3        18      1  1450         4           5         RO        4      0\n",
       "4        30      1  3330         5           1         RO        1      0\n",
       "5        15      2  4000         5           3         RO        4      1\n",
       "7        19      1  2650         5           4         RO        1     10"
      ]
     },
     "execution_count": 3,
     "metadata": {},
     "output_type": "execute_result"
    }
   ],
   "source": [
    "import dtale\n",
    "import numpy as np\n",
    "import pandas as pd\n",
    "df = pd.read_excel('D:/UFMG - DOUTORADO/Dados SIM - Natalidade/venvsim39/Total_Mortalidade_Geral_Limpo2010-2020.xlsx')\n",
    "df = df[['IDADEMAE','PARTO','PESO','GESTACAO','ESCMAEAGR1','CODMUNOCOR', 'RACACOR', 'IDADE']]\n",
    "#df.tail()\n",
    "#list(df.columns)\n",
    "df = df[df['IDADEMAE'].notna()]\n",
    "df = df[df['PARTO'].notna()]\n",
    "df = df[df['PESO'].notna()]\n",
    "df = df[df['GESTACAO'].notna()]\n",
    "df = df[df['ESCMAEAGR1'].notna()]\n",
    "df = df[df['CODMUNOCOR'].notna()]\n",
    "df = df[df['RACACOR'].notna()]\n",
    "df = df[df['IDADE'].notna()]\n",
    "df['IDADEMAE'] = df['IDADEMAE'].astype(np.int64)\n",
    "df['PARTO'] = df['PARTO'].astype(np.int64)\n",
    "df['PESO'] = df['PESO'].astype(np.int64)\n",
    "df['GESTACAO'] = df['GESTACAO'].astype(np.int64)\n",
    "df['ESCMAEAGR1'] = df['ESCMAEAGR1'].astype(np.int64)\n",
    "df['RACACOR'] = df['RACACOR'].astype(np.int64)\n",
    "df['IDADE'] = df['IDADE'].astype(np.int64)\n",
    "#d = dtale.show(df)\n",
    "#d.open_browser()\n",
    "df.head()\n"
   ]
  },
  {
   "cell_type": "code",
   "execution_count": 4,
   "metadata": {},
   "outputs": [],
   "source": [
    "df.to_csv('Total_Mortalidade_Geral_Limpo2010-2020.csv')\n"
   ]
  },
  {
   "cell_type": "code",
   "execution_count": 1,
   "metadata": {},
   "outputs": [
    {
     "ename": "ValueError",
     "evalue": "source code string cannot contain null bytes",
     "output_type": "error",
     "traceback": [
      "\u001b[1;31m---------------------------------------------------------------------------\u001b[0m",
      "\u001b[1;31mValueError\u001b[0m                                Traceback (most recent call last)",
      "Cell \u001b[1;32mIn [1], line 1\u001b[0m\n\u001b[1;32m----> 1\u001b[0m \u001b[39mfrom\u001b[39;00m \u001b[39mautoviz\u001b[39;00m\u001b[39m.\u001b[39;00m\u001b[39mAutoViz_Class\u001b[39;00m \u001b[39mimport\u001b[39;00m AutoViz_Class\n\u001b[0;32m      2\u001b[0m AV \u001b[39m=\u001b[39m AutoViz_Class()\n\u001b[0;32m      3\u001b[0m filename \u001b[39m=\u001b[39m \u001b[39m'\u001b[39m\u001b[39mD:/UFMG - DOUTORADO/Dados SIM - Natalidade/venvsim39/Total_Mortalidade_Geral_Limpo2010-2020.csv\u001b[39m\u001b[39m'\u001b[39m\n",
      "File \u001b[1;32md:\\UFMG - DOUTORADO\\Dados SIM - Natalidade\\venvsim39\\lib\\site-packages\\autoviz\\__init__.py:3\u001b[0m\n\u001b[0;32m      1\u001b[0m name \u001b[39m=\u001b[39m \u001b[39m\"\u001b[39m\u001b[39mautoviz\u001b[39m\u001b[39m\"\u001b[39m\n\u001b[0;32m      2\u001b[0m \u001b[39mfrom\u001b[39;00m \u001b[39m.\u001b[39;00m\u001b[39m__version__\u001b[39;00m \u001b[39mimport\u001b[39;00m __version__, __holo_version__\n\u001b[1;32m----> 3\u001b[0m \u001b[39mfrom\u001b[39;00m \u001b[39m.\u001b[39;00m\u001b[39mAutoViz_Class\u001b[39;00m \u001b[39mimport\u001b[39;00m AutoViz_Class\n\u001b[0;32m      4\u001b[0m \u001b[39mfrom\u001b[39;00m \u001b[39m.\u001b[39;00m\u001b[39mclassify_method\u001b[39;00m \u001b[39mimport\u001b[39;00m data_cleaning_suggestions\n\u001b[0;32m      5\u001b[0m \u001b[39mif\u001b[39;00m \u001b[39m__name__\u001b[39m \u001b[39m==\u001b[39m \u001b[39m\"\u001b[39m\u001b[39m__main__\u001b[39m\u001b[39m\"\u001b[39m:\n",
      "File \u001b[1;32md:\\UFMG - DOUTORADO\\Dados SIM - Natalidade\\venvsim39\\lib\\site-packages\\autoviz\\AutoViz_Class.py:61\u001b[0m\n\u001b[0;32m     59\u001b[0m \u001b[39mfrom\u001b[39;00m \u001b[39msklearn\u001b[39;00m\u001b[39m.\u001b[39;00m\u001b[39mmodel_selection\u001b[39;00m \u001b[39mimport\u001b[39;00m train_test_split\n\u001b[0;32m     60\u001b[0m \u001b[39m##########################################################################################\u001b[39;00m\n\u001b[1;32m---> 61\u001b[0m \u001b[39mfrom\u001b[39;00m \u001b[39mautoviz\u001b[39;00m\u001b[39m.\u001b[39;00m\u001b[39mAutoViz_Holo\u001b[39;00m \u001b[39mimport\u001b[39;00m AutoViz_Holo\n\u001b[0;32m     62\u001b[0m \u001b[39mfrom\u001b[39;00m \u001b[39mautoviz\u001b[39;00m\u001b[39m.\u001b[39;00m\u001b[39mAutoViz_Utils\u001b[39;00m \u001b[39mimport\u001b[39;00m \u001b[39m*\u001b[39m\n\u001b[0;32m     63\u001b[0m \u001b[39mfrom\u001b[39;00m \u001b[39mautoviz\u001b[39;00m\u001b[39m.\u001b[39;00m\u001b[39mAutoViz_NLP\u001b[39;00m \u001b[39mimport\u001b[39;00m draw_word_clouds\n",
      "File \u001b[1;32md:\\UFMG - DOUTORADO\\Dados SIM - Natalidade\\venvsim39\\lib\\site-packages\\autoviz\\AutoViz_Holo.py:5\u001b[0m\n\u001b[0;32m      3\u001b[0m \u001b[39mimport\u001b[39;00m \u001b[39mpandas\u001b[39;00m \u001b[39mas\u001b[39;00m \u001b[39mpd\u001b[39;00m\n\u001b[0;32m      4\u001b[0m \u001b[39m############# Import from autoviz.AutoViz_Class the following libraries #######\u001b[39;00m\n\u001b[1;32m----> 5\u001b[0m \u001b[39mfrom\u001b[39;00m \u001b[39mautoviz\u001b[39;00m\u001b[39m.\u001b[39;00m\u001b[39mAutoViz_Utils\u001b[39;00m \u001b[39mimport\u001b[39;00m \u001b[39m*\u001b[39m\n\u001b[0;32m      6\u001b[0m \u001b[39m##############   make sure you use: conda install -c pyviz hvplot ###############\u001b[39;00m\n\u001b[0;32m      7\u001b[0m \u001b[39mimport\u001b[39;00m \u001b[39mhvplot\u001b[39;00m\u001b[39m.\u001b[39;00m\u001b[39mpandas\u001b[39;00m  \u001b[39m# noqa\u001b[39;00m\n",
      "File \u001b[1;32md:\\UFMG - DOUTORADO\\Dados SIM - Natalidade\\venvsim39\\lib\\site-packages\\autoviz\\AutoViz_Utils.py:61\u001b[0m\n\u001b[0;32m     59\u001b[0m \u001b[39mfrom\u001b[39;00m \u001b[39msklearn\u001b[39;00m\u001b[39m.\u001b[39;00m\u001b[39mmodel_selection\u001b[39;00m \u001b[39mimport\u001b[39;00m train_test_split\n\u001b[0;32m     60\u001b[0m \u001b[39m######## This is where we import HoloViews related libraries  #########\u001b[39;00m\n\u001b[1;32m---> 61\u001b[0m \u001b[39mimport\u001b[39;00m \u001b[39mhvplot\u001b[39;00m\u001b[39m.\u001b[39;00m\u001b[39mpandas\u001b[39;00m\n\u001b[0;32m     62\u001b[0m \u001b[39mimport\u001b[39;00m \u001b[39mholoviews\u001b[39;00m \u001b[39mas\u001b[39;00m \u001b[39mhv\u001b[39;00m\n\u001b[0;32m     63\u001b[0m \u001b[39mfrom\u001b[39;00m \u001b[39mholoviews\u001b[39;00m \u001b[39mimport\u001b[39;00m opts\n",
      "File \u001b[1;32md:\\UFMG - DOUTORADO\\Dados SIM - Natalidade\\venvsim39\\lib\\site-packages\\hvplot\\__init__.py:65\u001b[0m\n\u001b[0;32m     63\u001b[0m \u001b[39mimport\u001b[39;00m \u001b[39mparam\u001b[39;00m\n\u001b[0;32m     64\u001b[0m \u001b[39mimport\u001b[39;00m \u001b[39mpanel\u001b[39;00m \u001b[39mas\u001b[39;00m \u001b[39m_pn\u001b[39;00m\n\u001b[1;32m---> 65\u001b[0m \u001b[39mimport\u001b[39;00m \u001b[39mholoviews\u001b[39;00m \u001b[39mas\u001b[39;00m \u001b[39m_hv\u001b[39;00m\n\u001b[0;32m     67\u001b[0m \u001b[39mfrom\u001b[39;00m \u001b[39mholoviews\u001b[39;00m \u001b[39mimport\u001b[39;00m Store, render  \u001b[39m# noqa\u001b[39;00m\n\u001b[0;32m     69\u001b[0m \u001b[39mfrom\u001b[39;00m \u001b[39m.\u001b[39;00m\u001b[39mconverter\u001b[39;00m \u001b[39mimport\u001b[39;00m HoloViewsConverter\n",
      "File \u001b[1;32md:\\UFMG - DOUTORADO\\Dados SIM - Natalidade\\venvsim39\\lib\\site-packages\\holoviews\\__init__.py:11\u001b[0m\n\u001b[0;32m      6\u001b[0m \u001b[39mimport\u001b[39;00m \u001b[39mparam\u001b[39;00m\n\u001b[0;32m      8\u001b[0m __version__ \u001b[39m=\u001b[39m \u001b[39mstr\u001b[39m(param\u001b[39m.\u001b[39mversion\u001b[39m.\u001b[39mVersion(fpath\u001b[39m=\u001b[39m\u001b[39m__file__\u001b[39m, archive_commit\u001b[39m=\u001b[39m\u001b[39m\"\u001b[39m\u001b[39m$Format:\u001b[39m\u001b[39m%\u001b[39m\u001b[39mh$\u001b[39m\u001b[39m\"\u001b[39m,\n\u001b[0;32m      9\u001b[0m                                         reponame\u001b[39m=\u001b[39m\u001b[39m\"\u001b[39m\u001b[39mholoviews\u001b[39m\u001b[39m\"\u001b[39m))\n\u001b[1;32m---> 11\u001b[0m \u001b[39mfrom\u001b[39;00m \u001b[39m.\u001b[39;00m \u001b[39mimport\u001b[39;00m util                                       \u001b[39m# noqa (API import)\u001b[39;00m\n\u001b[0;32m     12\u001b[0m \u001b[39mfrom\u001b[39;00m \u001b[39m.\u001b[39;00m\u001b[39mannotators\u001b[39;00m \u001b[39mimport\u001b[39;00m annotate                         \u001b[39m# noqa (API import)\u001b[39;00m\n\u001b[0;32m     13\u001b[0m \u001b[39mfrom\u001b[39;00m \u001b[39m.\u001b[39;00m\u001b[39mcore\u001b[39;00m \u001b[39mimport\u001b[39;00m archive, config                        \u001b[39m# noqa (API import)\u001b[39;00m\n",
      "File \u001b[1;32md:\\UFMG - DOUTORADO\\Dados SIM - Natalidade\\venvsim39\\lib\\site-packages\\holoviews\\util\\__init__.py:15\u001b[0m\n\u001b[0;32m     12\u001b[0m \u001b[39mimport\u001b[39;00m \u001b[39mparam\u001b[39;00m\n\u001b[0;32m     13\u001b[0m \u001b[39mfrom\u001b[39;00m \u001b[39mpyviz_comms\u001b[39;00m \u001b[39mimport\u001b[39;00m extension \u001b[39mas\u001b[39;00m _pyviz_extension\n\u001b[1;32m---> 15\u001b[0m \u001b[39mfrom\u001b[39;00m \u001b[39m.\u001b[39;00m\u001b[39m.\u001b[39;00m\u001b[39mcore\u001b[39;00m \u001b[39mimport\u001b[39;00m (\n\u001b[0;32m     16\u001b[0m     Dataset, DynamicMap, HoloMap, Dimensioned, ViewableElement,\n\u001b[0;32m     17\u001b[0m     StoreOptions, Store\n\u001b[0;32m     18\u001b[0m )\n\u001b[0;32m     19\u001b[0m \u001b[39mfrom\u001b[39;00m \u001b[39m.\u001b[39;00m\u001b[39m.\u001b[39;00m\u001b[39mcore\u001b[39;00m\u001b[39m.\u001b[39;00m\u001b[39moptions\u001b[39;00m \u001b[39mimport\u001b[39;00m options_policy, Keywords, Options\n\u001b[0;32m     20\u001b[0m \u001b[39mfrom\u001b[39;00m \u001b[39m.\u001b[39;00m\u001b[39m.\u001b[39;00m\u001b[39mcore\u001b[39;00m\u001b[39m.\u001b[39;00m\u001b[39moperation\u001b[39;00m \u001b[39mimport\u001b[39;00m Operation\n",
      "File \u001b[1;32md:\\UFMG - DOUTORADO\\Dados SIM - Natalidade\\venvsim39\\lib\\site-packages\\holoviews\\core\\__init__.py:3\u001b[0m\n\u001b[0;32m      1\u001b[0m \u001b[39mfrom\u001b[39;00m \u001b[39mdatetime\u001b[39;00m \u001b[39mimport\u001b[39;00m date, datetime\n\u001b[1;32m----> 3\u001b[0m \u001b[39mfrom\u001b[39;00m \u001b[39m.\u001b[39;00m\u001b[39mboundingregion\u001b[39;00m \u001b[39mimport\u001b[39;00m \u001b[39m*\u001b[39m  \u001b[39m# noqa (API import)\u001b[39;00m\n\u001b[0;32m      4\u001b[0m \u001b[39mfrom\u001b[39;00m \u001b[39m.\u001b[39;00m\u001b[39mdata\u001b[39;00m \u001b[39mimport\u001b[39;00m \u001b[39m*\u001b[39m            \u001b[39m# noqa (API import)\u001b[39;00m\n\u001b[0;32m      5\u001b[0m \u001b[39mfrom\u001b[39;00m \u001b[39m.\u001b[39;00m\u001b[39mdimension\u001b[39;00m \u001b[39mimport\u001b[39;00m \u001b[39m*\u001b[39m       \u001b[39m# noqa (API import)\u001b[39;00m\n",
      "\u001b[1;31mValueError\u001b[0m: source code string cannot contain null bytes"
     ]
    }
   ],
   "source": [
    "from autoviz.AutoViz_Class import AutoViz_Class\n",
    "AV = AutoViz_Class()\n",
    "filename = 'D:/UFMG - DOUTORADO/Dados SIM - Natalidade/venvsim39/Total_Mortalidade_Geral_Limpo2010-2020.csv'\n",
    "sep = \",\"\n",
    "dft = AV.AutoViz(\n",
    "    filename,\n",
    "    sep=\",\",\n",
    "    depVar=\"\",\n",
    "    dfte=None,\n",
    "    header=0,\n",
    "    verbose=0,\n",
    "    lowess=False,\n",
    "    chart_format=\"server\",\n",
    "    max_rows_analyzed=150000,\n",
    "    max_cols_analyzed=30,\n",
    "    save_plot_dir=None\n",
    ")"
   ]
  },
  {
   "cell_type": "code",
   "execution_count": 6,
   "metadata": {},
   "outputs": [],
   "source": [
    "import dtale.global_state as global_state\n",
    "\n",
    "\n",
    "import dtale\n",
    "import numpy as np\n",
    "import pandas as pd\n",
    "df = pd.read_csv('D:/UFMG - DOUTORADO/Dados SIM - Natalidade/venvsim39/Total_Mortalidade_Geral_Limpo2010-2020.csv')\n",
    "#global_state.set_chart_settings({'scatter_points': 15000, '3d_points': 40000})\n",
    "d = dtale.show(df)\n",
    "d.open_browser()"
   ]
  },
  {
   "cell_type": "code",
   "execution_count": 5,
   "metadata": {},
   "outputs": [
    {
     "name": "stdout",
     "output_type": "stream",
     "text": [
      "178124\n"
     ]
    }
   ],
   "source": [
    "df.describe()\n",
    "print(len(df.index))"
   ]
  },
  {
   "cell_type": "code",
   "execution_count": 9,
   "metadata": {},
   "outputs": [
    {
     "data": {
      "application/vnd.jupyter.widget-view+json": {
       "model_id": "43291b524afe45509043aff87949d200",
       "version_major": 2,
       "version_minor": 0
      },
      "text/plain": [
       "Summarize dataset:   0%|          | 0/5 [00:00<?, ?it/s]"
      ]
     },
     "metadata": {},
     "output_type": "display_data"
    },
    {
     "data": {
      "application/vnd.jupyter.widget-view+json": {
       "model_id": "a19731bd629b4b52ad0a66da8ab1ae6d",
       "version_major": 2,
       "version_minor": 0
      },
      "text/plain": [
       "Generate report structure:   0%|          | 0/1 [00:00<?, ?it/s]"
      ]
     },
     "metadata": {},
     "output_type": "display_data"
    },
    {
     "data": {
      "application/vnd.jupyter.widget-view+json": {
       "model_id": "6f5da670c27040a7b853051e069ce30f",
       "version_major": 2,
       "version_minor": 0
      },
      "text/plain": [
       "Render HTML:   0%|          | 0/1 [00:00<?, ?it/s]"
      ]
     },
     "metadata": {},
     "output_type": "display_data"
    },
    {
     "data": {
      "application/vnd.jupyter.widget-view+json": {
       "model_id": "2aff6416b146484daba49c95077172b1",
       "version_major": 2,
       "version_minor": 0
      },
      "text/plain": [
       "Export report to file:   0%|          | 0/1 [00:00<?, ?it/s]"
      ]
     },
     "metadata": {},
     "output_type": "display_data"
    }
   ],
   "source": [
    "#importing required packages\n",
    "import pandas as pd\n",
    "import pandas_profiling\n",
    "import numpy as np\n",
    "\n",
    "#importing the data\n",
    "\n",
    "\n",
    "#descriptive statistics\n",
    "profile = pandas_profiling.ProfileReport(df, minimal=True)\n",
    "profile.to_file(\"PandasProfiling_report.html\")"
   ]
  }
 ],
 "metadata": {
  "kernelspec": {
   "display_name": "Python 3.9.0 ('venvsim39': venv)",
   "language": "python",
   "name": "python3"
  },
  "language_info": {
   "codemirror_mode": {
    "name": "ipython",
    "version": 3
   },
   "file_extension": ".py",
   "mimetype": "text/x-python",
   "name": "python",
   "nbconvert_exporter": "python",
   "pygments_lexer": "ipython3",
   "version": "3.9.0"
  },
  "orig_nbformat": 4,
  "vscode": {
   "interpreter": {
    "hash": "d66df1f5ba377e5b7cc706075f57baa4a19f5ea3b3af068d3b6a1f1315ee4199"
   }
  }
 },
 "nbformat": 4,
 "nbformat_minor": 2
}
